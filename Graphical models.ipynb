{
 "cells": [
  {
   "cell_type": "markdown",
   "metadata": {},
   "source": [
    "### Graphical Models\n",
    "\n",
    "KIAS CAC Winter School 2020\n",
    "\n",
    "Dates: 2020-12-17\n",
    "\n",
    "Author: Yung-Kyun Noh\n",
    "\n",
    "Department of Computer Science, Hanyang University\n"
   ]
  },
  {
   "cell_type": "markdown",
   "metadata": {},
   "source": [
    "#### We show the application of graphical model for Gaussian data. We consider each class has the casuality graph,\n",
    "\n",
    "\n",
    "<img src=\"GM.png\" style=\"width: 500px;\">\n"
   ]
  },
  {
   "cell_type": "markdown",
   "metadata": {},
   "source": [
    "## Data generation\n",
    "\\begin{eqnarray}\n",
    "\\left(\\begin{array}{c}\n",
    "X_1 \\\\\n",
    "X_2\n",
    "\\end{array}\\right) \\sim \\mathcal{N}(\\mu_{12}, \\Sigma_{12}), \\quad\n",
    "\\left(\\begin{array}{c}\n",
    "X_7 \\\\\n",
    "X_8 \\\\\n",
    "X_9 \\\\\n",
    "X_{10}\n",
    "\\end{array}\\right) \\sim \\mathcal{N}(\\mu_{7890}, \\Sigma_{7890}), \n",
    "\\end{eqnarray}\n",
    "\n",
    "\\begin{eqnarray}\n",
    "\\left(\\begin{array}{c}\n",
    "X_3 \\\\\n",
    "X_4 \\\\\n",
    "X_5\n",
    "\\end{array}\\right) &=& W_{345,12}\n",
    "\\left(\\begin{array}{c}\n",
    "X_1 \\\\\n",
    "X_2\n",
    "\\end{array}\\right)\n",
    "+ \\gamma\\left(\\begin{array}{c}\n",
    "\\epsilon_3 \\\\\n",
    "\\epsilon_4 \\\\\n",
    "\\epsilon_5\n",
    "\\end{array}\\right) \\\\\n",
    "X_6 &=& W_{6,345}\n",
    "\\left(\\begin{array}{c}\n",
    "X_3 \\\\\n",
    "X_4 \\\\\n",
    "X_5 \n",
    "\\end{array}\\right)\n",
    "+ W_{6,7890}\n",
    "\\left(\\begin{array}{c}\n",
    "X_7 \\\\\n",
    "X_8 \\\\\n",
    "X_9 \\\\\n",
    "X_{10}\n",
    "\\end{array}\\right)\n",
    "+ \\gamma\n",
    "\\epsilon_6\n",
    "\\end{eqnarray}\n",
    "\n",
    "\\begin{eqnarray}\n",
    "\\epsilon_3, \\epsilon_4, \\epsilon_5, \\epsilon_6 \\sim \\mathcal{N}(0, 1)\n",
    "\\end{eqnarray}"
   ]
  },
  {
   "cell_type": "markdown",
   "metadata": {},
   "source": [
    "## Parameter estimation\n",
    "\n",
    "\\begin{eqnarray}\n",
    "P(X_1,\\ldots,X_{10}) &=& P(X_1,X_2)P(X_3,X_4,X_5|X_1,X_2)P(X_7,X_8,X_9,X_{10})P(X_6|X_3,X_4,X_5,X_7,\\ldots,X_{10})\\\\\n",
    "&=& P(X_1,X_2)\\frac{P(X_1,X_2,X_3,X_4,X_5)}{P(X_1,X_2)}P(X_7,X_8,X_9,X_{10})\\frac{P(X_3,\\ldots,X_{10})}{P(X_3,X_4,X_5,X_7,\\ldots,X_{10})} \\\\\n",
    "&=& P(X_1,X_2)\\frac{P(X_1,X_2,X_3,X_4,X_5)}{P(X_1,X_2)}P(X_7,X_8,X_9,X_{10})\\frac{P(X_3,\\ldots,X_{10})}{P(X_3,X_4,X_5)P(X_7,\\ldots,X_{10})} \\\\\n",
    "&=& P(X_1,X_2,X_3,X_4,X_5)\\frac{P(X_3,X_4,X_5,X_6,X_7,X_8,X_9,X_{10})}{P(X_3,X_4,X_5)}\n",
    "\\end{eqnarray}"
   ]
  },
  {
   "cell_type": "code",
   "execution_count": 1,
   "metadata": {},
   "outputs": [],
   "source": [
    "import numpy as np"
   ]
  },
  {
   "cell_type": "markdown",
   "metadata": {},
   "source": [
    "### Make **true** density parameters"
   ]
  },
  {
   "cell_type": "code",
   "execution_count": 2,
   "metadata": {},
   "outputs": [
    {
     "name": "stdout",
     "output_type": "stream",
     "text": [
      "[0. 0. 0. 0. 0. 0. 0. 0. 0. 0.]\n",
      "[1. 0. 0. 0. 0. 0. 0. 0. 0. 0.]\n",
      "[[0.10167425 0.36421265]\n",
      " [0.36421265 1.74504139]]\n",
      "[[0.1039312  0.36272984]\n",
      " [0.36272984 1.74722209]]\n",
      "[[ 3.12241896 -0.5279745   0.88929495  1.93155965]\n",
      " [-0.5279745   1.43329039  0.65830421 -0.47263749]\n",
      " [ 0.88929495  0.65830421  0.94375448  0.52436493]\n",
      " [ 1.93155965 -0.47263749  0.52436493  1.62693561]]\n",
      "[[ 3.24185888 -0.32654813  0.88528358  1.92644294]\n",
      " [-0.32654813  2.05790735  0.41359579 -0.14870771]\n",
      " [ 0.88528358  0.41359579  1.80286611 -0.08515329]\n",
      " [ 1.92644294 -0.14870771 -0.08515329  2.19993908]]\n"
     ]
    }
   ],
   "source": [
    "dim = 10;\n",
    "\n",
    "# True density\n",
    "trueMean_1 = np.zeros(dim)\n",
    "trueMean_2 = np.concatenate(([1],np.zeros(dim-1)))\n",
    "print(trueMean_1)\n",
    "print(trueMean_2)\n",
    "\n",
    "# covariance matrix of X1, X2 (root nodes)\n",
    "curDim = 2\n",
    "trueCov12_1 = np.random.randn(curDim,curDim)\n",
    "trueCov12_1 = np.dot(trueCov12_1.T, trueCov12_1)\n",
    "trueCov12_2 = np.random.randn(curDim,curDim)\n",
    "trueCov12_2 = trueCov12_1 + .001*np.dot(trueCov12_2.T, trueCov12_2)\n",
    "\n",
    "print(trueCov12_1)\n",
    "print(trueCov12_2)\n",
    "\n",
    "# covariance matrix of X7, X8, X9, X10 (root nodes)\n",
    "curDim = 4;\n",
    "trueCov7890_1 = np.random.randn(curDim,curDim)\n",
    "trueCov7890_1 = np.dot(trueCov7890_1.T, trueCov7890_1)\n",
    "trueCov7890_2 = np.random.randn(curDim,curDim)\n",
    "trueCov7890_2 = trueCov7890_1 + .1*np.dot(trueCov7890_2.T, trueCov7890_2)\n",
    "\n",
    "print(trueCov7890_1)\n",
    "print(trueCov7890_2)"
   ]
  },
  {
   "cell_type": "markdown",
   "metadata": {},
   "source": [
    "### Generate data according to the true parameters"
   ]
  },
  {
   "cell_type": "code",
   "execution_count": 3,
   "metadata": {},
   "outputs": [],
   "source": [
    "# data generation\n",
    "datanum = 11\n",
    "tstdatanum = 1000"
   ]
  },
  {
   "cell_type": "code",
   "execution_count": 4,
   "metadata": {},
   "outputs": [],
   "source": [
    "# root node X1, X2\n",
    "curDim = 2\n",
    "\n",
    "X12_1 = np.random.multivariate_normal(trueMean_1[0:2], trueCov12_1, datanum)\n",
    "tstX12_1 = np.random.multivariate_normal(trueMean_1[0:2], trueCov12_1, tstdatanum)\n",
    "\n",
    "X12_2 = np.random.multivariate_normal(trueMean_2[0:2], trueCov12_2, datanum)\n",
    "tstX12_2 = np.random.multivariate_normal(trueMean_2[0:2], trueCov12_2, tstdatanum)\n",
    "\n",
    "# root node X7, X8, X9, X10\n",
    "curDim = 4\n",
    "X7890_1 = np.random.multivariate_normal(trueMean_1[6:10], trueCov7890_1, datanum)\n",
    "tstX7890_1 = np.random.multivariate_normal(trueMean_1[6:10], trueCov7890_1, tstdatanum)\n",
    "X7890_2 = np.random.multivariate_normal(trueMean_2[6:10], trueCov7890_2, datanum)\n",
    "tstX7890_2 = np.random.multivariate_normal(trueMean_2[6:10], trueCov7890_2, tstdatanum)"
   ]
  },
  {
   "cell_type": "code",
   "execution_count": 5,
   "metadata": {},
   "outputs": [],
   "source": [
    "# Non-root node X3, X4, X5\n",
    "curDim = 3\n",
    "curW = np.random.randn(2,curDim)\n",
    "#print curW\n",
    "X345_1 = np.dot(X12_1,curW) + .1*np.random.randn(datanum,curDim) # non-isotropic noise can be added\n",
    "#print X345_1\n",
    "tstX345_1 = np.dot(tstX12_1,curW) + .1*np.random.randn(tstdatanum,curDim) # non-isotropic noise can be added\n",
    "curW = curW + .1*np.random.randn(2,curDim)\n",
    "X345_2 = np.dot(X12_2,curW) + .1*np.random.randn(datanum,curDim)   # non-isotropic noise can be added\n",
    "tstX345_2 = np.dot(tstX12_2,curW) + .1*np.random.randn(tstdatanum,curDim)  # non-isotropic noise can be added\n",
    "\n",
    "# Non-root node X6\n",
    "curDim = 1\n",
    "curW = np.random.randn(7,curDim)\n",
    "#print np.hstack([X345_1,X7890_1])\n",
    "X6_1 = np.dot(np.hstack([X345_1,X7890_1]),curW) + .1*np.random.randn(datanum,curDim) # non-isotropic noise can be added\n",
    "tstX6_1 = np.dot(np.hstack([tstX345_1,tstX7890_1]),curW) + .1*np.random.randn(tstdatanum,curDim) # non-isotropic noise can be added\n",
    "curW = curW + .1*np.random.randn(7,curDim)\n",
    "X6_2 = np.dot(np.hstack([X345_2,X7890_2]),curW) + .1*np.random.randn(datanum,curDim) # non-isotropic noise can be added\n",
    "tstX6_2 = np.dot(np.hstack([tstX345_2,tstX7890_2]),curW) + .1*np.random.randn(tstdatanum,curDim) # non-isotropic noise can be added"
   ]
  },
  {
   "cell_type": "code",
   "execution_count": 6,
   "metadata": {},
   "outputs": [],
   "source": [
    "X1 = np.hstack([X12_1,X345_1,X6_1,X7890_1])\n",
    "X2 = np.hstack([X12_2,X345_2,X6_2,X7890_2])\n",
    "tstX1 = np.hstack([tstX12_1,tstX345_1,tstX6_1,tstX7890_1])\n",
    "tstX2 = np.hstack([tstX12_2,tstX345_2,tstX6_2,tstX7890_2])\n"
   ]
  },
  {
   "cell_type": "markdown",
   "metadata": {},
   "source": [
    "### Now we have no idea about the true paprameters and try to learn from data"
   ]
  },
  {
   "cell_type": "code",
   "execution_count": 7,
   "metadata": {},
   "outputs": [],
   "source": [
    "# Classification with joint density function\n",
    "# X1, X2 \\in R^{dim x datanum}\n",
    "estM1 = np.sum(X1,axis=0)/datanum\n",
    "estM2 = np.sum(X2,axis=0)/datanum\n",
    "\n",
    "estCov1 = np.dot(X1.T,X1)/datanum - np.outer(estM1, estM1)\n",
    "estCov2 = np.dot(X2.T,X2)/datanum - np.outer(estM2, estM2)"
   ]
  },
  {
   "cell_type": "code",
   "execution_count": 8,
   "metadata": {},
   "outputs": [],
   "source": [
    "def getLogGaussian(X, mu, Sig):\n",
    "    ''' evalute log probability of Gaussian distribution\n",
    "    given the Gaussian distribution model (mean and covariance).'''\n",
    "    # X: datanum x dim\n",
    "    nData, nDim = X.shape\n",
    "    detSig = np.linalg.det(Sig)\n",
    "    invSig = np.linalg.inv(Sig)    \n",
    "    logPs = np.zeros(nData)\n",
    "    \n",
    "    const = - nDim / (2.) * np.log(2*np.pi) - 1 / (2.) * np.log(detSig) # sacalar\n",
    "    for i in range(nData):\n",
    "        x = X[i,:]\n",
    "        expval = - 1/2. * (x - mu).reshape(1,-1).dot(invSig).dot((x - mu).reshape(-1,1)) # 2d array\n",
    "        logPs[i] =  const + expval\n",
    "    return logPs\n",
    "\n"
   ]
  },
  {
   "cell_type": "markdown",
   "metadata": {},
   "source": [
    "## Full covariance matrix"
   ]
  },
  {
   "cell_type": "code",
   "execution_count": 9,
   "metadata": {},
   "outputs": [
    {
     "name": "stdout",
     "output_type": "stream",
     "text": [
      "983\n",
      "580\n",
      "0.7815\n"
     ]
    }
   ],
   "source": [
    "probC1tst1 = getLogGaussian(tstX1, estM1, estCov1)   # array\n",
    "probC2tst1 = getLogGaussian(tstX1, estM2, estCov2)\n",
    "probC1tst2 = getLogGaussian(tstX2, estM1, estCov1)\n",
    "probC2tst2 = getLogGaussian(tstX2, estM2, estCov2)\n",
    "print(np.sum(probC1tst1 - probC2tst1 > 0))\n",
    "print(np.sum(probC2tst2 - probC1tst2 > 0))\n",
    "accuracy = (np.sum(probC1tst1 - probC2tst1 > 0) + \n",
    "    np.sum(probC2tst2 - probC1tst2 > 0))/(2.*tstdatanum)\n",
    "print(accuracy)"
   ]
  },
  {
   "cell_type": "markdown",
   "metadata": {},
   "source": [
    "## From graphical model"
   ]
  },
  {
   "cell_type": "code",
   "execution_count": 10,
   "metadata": {},
   "outputs": [
    {
     "name": "stdout",
     "output_type": "stream",
     "text": [
      "0.9665\n"
     ]
    }
   ],
   "source": [
    "# Graphical model\n",
    "# P(X1,...,X10) \n",
    "#        = P(X1,X2)*P(X3,...,X5|X1,X2)*\n",
    "#          P(X7,...,X10)*P(X6|X3,...X5,X7,...X10)\n",
    "#\n",
    "#        = P(X1,...,X5)*P(X3,...,X10)/P(X3,X4,X5)\n",
    "#\n",
    "\n",
    "estM1_12345 = np.sum(X1[:,0:5],axis=0)/datanum\n",
    "estM2_12345 = np.sum(X2[:,0:5],axis=0)/datanum\n",
    "estM1_34567890 = np.sum(X1[:,2:10],axis=0)/datanum\n",
    "estM2_34567890 = np.sum(X2[:,2:10],axis=0)/datanum\n",
    "estM1_345 = np.sum(X1[:,2:5],axis=0)/datanum\n",
    "estM2_345 = np.sum(X2[:,2:5],axis=0)/datanum\n",
    "\n",
    "\n",
    "estCov1_12345 = np.dot(X1[:,0:5].T, X1[:,0:5])/datanum - np.outer(estM1_12345, estM1_12345)\n",
    "estCov2_12345 = np.dot(X2[:,0:5].T, X2[:,0:5])/datanum - np.outer(estM2_12345, estM2_12345)\n",
    "estCov1_34567890 = np.dot(X1[:,2:10].T, X1[:,2:10])/datanum - np.outer(estM1_34567890, estM1_34567890)\n",
    "estCov2_34567890 = np.dot(X2[:,2:10].T, X2[:,2:10])/datanum - np.outer(estM2_34567890, estM2_34567890)\n",
    "estCov1_345 = np.dot(X1[:,2:5].T, X1[:,2:5])/datanum - np.outer(estM1_345, estM1_345)\n",
    "estCov2_345 = np.dot(X2[:,2:5].T, X2[:,2:5])/datanum - np.outer(estM2_345, estM2_345)\n",
    "\n",
    "\n",
    "probC1tst1 = (np.exp(getLogGaussian(tstX1[:,0:5], estM1_12345, estCov1_12345))*\n",
    "    np.exp(getLogGaussian(tstX1[:,2:10], estM1_34567890, estCov1_34567890))/ \n",
    "    np.exp(getLogGaussian(tstX1[:,2:5], estM1_345, estCov1_345)))\n",
    "probC2tst1 = (np.exp(getLogGaussian(tstX1[:,0:5], estM2_12345, estCov2_12345))*\n",
    "    np.exp(getLogGaussian(tstX1[:,2:10], estM2_34567890, estCov2_34567890))/\n",
    "    np.exp(getLogGaussian(tstX1[:,2:5], estM2_345, estCov2_345)))\n",
    "probC1tst2 = (np.exp(getLogGaussian(tstX2[:,0:5], estM1_12345, estCov1_12345))*\n",
    "    np.exp(getLogGaussian(tstX2[:,2:10], estM1_34567890, estCov1_34567890))/\n",
    "    np.exp(getLogGaussian(tstX2[:,2:5], estM1_345, estCov1_345)))\n",
    "probC2tst2 = (np.exp(getLogGaussian(tstX2[:,0:5], estM2_12345, estCov2_12345))*\n",
    "    np.exp(getLogGaussian(tstX2[:,2:10], estM2_34567890, estCov2_34567890))/\n",
    "    np.exp(getLogGaussian(tstX2[:,2:5], estM2_345, estCov2_345)))\n",
    "GraphicalModelAccuracy = (np.sum(probC1tst1 - probC2tst1 > 0) + \n",
    "    np.sum(probC2tst2 - probC1tst2 > 0))/(2.*tstdatanum)\n",
    "print(GraphicalModelAccuracy)"
   ]
  },
  {
   "cell_type": "code",
   "execution_count": 11,
   "metadata": {},
   "outputs": [
    {
     "name": "stdout",
     "output_type": "stream",
     "text": [
      "0.7815\n",
      "0.9665\n"
     ]
    }
   ],
   "source": [
    "print(accuracy)\n",
    "print(GraphicalModelAccuracy)"
   ]
  },
  {
   "cell_type": "code",
   "execution_count": null,
   "metadata": {},
   "outputs": [],
   "source": []
  }
 ],
 "metadata": {
  "kernelspec": {
   "display_name": "Python 3",
   "language": "python",
   "name": "python3"
  },
  "language_info": {
   "codemirror_mode": {
    "name": "ipython",
    "version": 3
   },
   "file_extension": ".py",
   "mimetype": "text/x-python",
   "name": "python",
   "nbconvert_exporter": "python",
   "pygments_lexer": "ipython3",
   "version": "3.8.5"
  }
 },
 "nbformat": 4,
 "nbformat_minor": 4
}
