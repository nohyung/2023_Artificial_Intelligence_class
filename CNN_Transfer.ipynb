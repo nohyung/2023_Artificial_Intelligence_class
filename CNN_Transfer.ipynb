{
 "cells": [
  {
   "cell_type": "markdown",
   "id": "1b4426ee",
   "metadata": {},
   "source": [
    "### Convolutional Neural Networks - Transfer Learning\n",
    "\n",
    "Hanyang U. 2023\n",
    "\n",
    "Dates: 2023-3-30\n",
    "\n",
    "Author: Yung-Kyun Noh\n",
    "\n",
    "Department of Computer Science, Hanyang University / School of Computational Sciences, KIAS\n"
   ]
  },
  {
   "cell_type": "code",
   "execution_count": 1,
   "id": "5eeeb06f",
   "metadata": {},
   "outputs": [],
   "source": [
    "import os\n",
    "os.environ[\"CUDA_DEVICE_ORDER\"]=\"PCI_BUS_ID\"\n",
    "os.environ[\"CUDA_VISIBLE_DEVICES\"]=\"3\""
   ]
  },
  {
   "cell_type": "code",
   "execution_count": 2,
   "id": "882638cd",
   "metadata": {},
   "outputs": [
    {
     "name": "stdout",
     "output_type": "stream",
     "text": [
      "Downloading data from https://storage.googleapis.com/tensorflow/keras-applications/vgg16/vgg16_weights_tf_dim_ordering_tf_kernels.h5\n",
      "553467904/553467096 [==============================] - 15s 0us/step\n",
      "553476096/553467096 [==============================] - 15s 0us/step\n",
      "Model: \"vgg16\"\n",
      "_________________________________________________________________\n",
      " Layer (type)                Output Shape              Param #   \n",
      "=================================================================\n",
      " input_1 (InputLayer)        [(None, 224, 224, 3)]     0         \n",
      "                                                                 \n",
      " block1_conv1 (Conv2D)       (None, 224, 224, 64)      1792      \n",
      "                                                                 \n",
      " block1_conv2 (Conv2D)       (None, 224, 224, 64)      36928     \n",
      "                                                                 \n",
      " block1_pool (MaxPooling2D)  (None, 112, 112, 64)      0         \n",
      "                                                                 \n",
      " block2_conv1 (Conv2D)       (None, 112, 112, 128)     73856     \n",
      "                                                                 \n",
      " block2_conv2 (Conv2D)       (None, 112, 112, 128)     147584    \n",
      "                                                                 \n",
      " block2_pool (MaxPooling2D)  (None, 56, 56, 128)       0         \n",
      "                                                                 \n",
      " block3_conv1 (Conv2D)       (None, 56, 56, 256)       295168    \n",
      "                                                                 \n",
      " block3_conv2 (Conv2D)       (None, 56, 56, 256)       590080    \n",
      "                                                                 \n",
      " block3_conv3 (Conv2D)       (None, 56, 56, 256)       590080    \n",
      "                                                                 \n",
      " block3_pool (MaxPooling2D)  (None, 28, 28, 256)       0         \n",
      "                                                                 \n",
      " block4_conv1 (Conv2D)       (None, 28, 28, 512)       1180160   \n",
      "                                                                 \n",
      " block4_conv2 (Conv2D)       (None, 28, 28, 512)       2359808   \n",
      "                                                                 \n",
      " block4_conv3 (Conv2D)       (None, 28, 28, 512)       2359808   \n",
      "                                                                 \n",
      " block4_pool (MaxPooling2D)  (None, 14, 14, 512)       0         \n",
      "                                                                 \n",
      " block5_conv1 (Conv2D)       (None, 14, 14, 512)       2359808   \n",
      "                                                                 \n",
      " block5_conv2 (Conv2D)       (None, 14, 14, 512)       2359808   \n",
      "                                                                 \n",
      " block5_conv3 (Conv2D)       (None, 14, 14, 512)       2359808   \n",
      "                                                                 \n",
      " block5_pool (MaxPooling2D)  (None, 7, 7, 512)         0         \n",
      "                                                                 \n",
      " flatten (Flatten)           (None, 25088)             0         \n",
      "                                                                 \n",
      " fc1 (Dense)                 (None, 4096)              102764544 \n",
      "                                                                 \n",
      " fc2 (Dense)                 (None, 4096)              16781312  \n",
      "                                                                 \n",
      " predictions (Dense)         (None, 1000)              4097000   \n",
      "                                                                 \n",
      "=================================================================\n",
      "Total params: 138,357,544\n",
      "Trainable params: 138,357,544\n",
      "Non-trainable params: 0\n",
      "_________________________________________________________________\n"
     ]
    }
   ],
   "source": [
    "# VGG16 network pre-trained on the ImageNet dataset\n",
    "from tensorflow.keras.applications import VGG16\n",
    "\n",
    "model = VGG16(weights=\"imagenet\")\n",
    "model.summary()"
   ]
  },
  {
   "cell_type": "code",
   "execution_count": null,
   "id": "098d3ee5",
   "metadata": {},
   "outputs": [],
   "source": []
  },
  {
   "cell_type": "code",
   "execution_count": 3,
   "id": "e3264afb",
   "metadata": {},
   "outputs": [
    {
     "name": "stdout",
     "output_type": "stream",
     "text": [
      "Downloading data from https://storage.googleapis.com/tensorflow/keras-applications/vgg16/vgg16_weights_tf_dim_ordering_tf_kernels_notop.h5\n",
      "58892288/58889256 [==============================] - 2s 0us/step\n",
      "58900480/58889256 [==============================] - 2s 0us/step\n",
      "Model: \"vgg16\"\n",
      "_________________________________________________________________\n",
      " Layer (type)                Output Shape              Param #   \n",
      "=================================================================\n",
      " input_2 (InputLayer)        [(None, 224, 224, 3)]     0         \n",
      "                                                                 \n",
      " block1_conv1 (Conv2D)       (None, 224, 224, 64)      1792      \n",
      "                                                                 \n",
      " block1_conv2 (Conv2D)       (None, 224, 224, 64)      36928     \n",
      "                                                                 \n",
      " block1_pool (MaxPooling2D)  (None, 112, 112, 64)      0         \n",
      "                                                                 \n",
      " block2_conv1 (Conv2D)       (None, 112, 112, 128)     73856     \n",
      "                                                                 \n",
      " block2_conv2 (Conv2D)       (None, 112, 112, 128)     147584    \n",
      "                                                                 \n",
      " block2_pool (MaxPooling2D)  (None, 56, 56, 128)       0         \n",
      "                                                                 \n",
      " block3_conv1 (Conv2D)       (None, 56, 56, 256)       295168    \n",
      "                                                                 \n",
      " block3_conv2 (Conv2D)       (None, 56, 56, 256)       590080    \n",
      "                                                                 \n",
      " block3_conv3 (Conv2D)       (None, 56, 56, 256)       590080    \n",
      "                                                                 \n",
      " block3_pool (MaxPooling2D)  (None, 28, 28, 256)       0         \n",
      "                                                                 \n",
      " block4_conv1 (Conv2D)       (None, 28, 28, 512)       1180160   \n",
      "                                                                 \n",
      " block4_conv2 (Conv2D)       (None, 28, 28, 512)       2359808   \n",
      "                                                                 \n",
      " block4_conv3 (Conv2D)       (None, 28, 28, 512)       2359808   \n",
      "                                                                 \n",
      " block4_pool (MaxPooling2D)  (None, 14, 14, 512)       0         \n",
      "                                                                 \n",
      " block5_conv1 (Conv2D)       (None, 14, 14, 512)       2359808   \n",
      "                                                                 \n",
      " block5_conv2 (Conv2D)       (None, 14, 14, 512)       2359808   \n",
      "                                                                 \n",
      " block5_conv3 (Conv2D)       (None, 14, 14, 512)       2359808   \n",
      "                                                                 \n",
      " block5_pool (MaxPooling2D)  (None, 7, 7, 512)         0         \n",
      "                                                                 \n",
      "=================================================================\n",
      "Total params: 14,714,688\n",
      "Trainable params: 14,714,688\n",
      "Non-trainable params: 0\n",
      "_________________________________________________________________\n"
     ]
    }
   ],
   "source": [
    "from tensorflow import keras\n",
    "\n",
    "base_model = keras.applications.VGG16(\n",
    "    weights='imagenet',  # Load weights pre-trained on ImageNet.\n",
    "    input_shape=(224, 224, 3),\n",
    "    include_top=False)\n",
    "\n",
    "base_model.summary()"
   ]
  },
  {
   "cell_type": "code",
   "execution_count": 4,
   "id": "28cb8426",
   "metadata": {},
   "outputs": [],
   "source": [
    "base_model.trainable = False"
   ]
  },
  {
   "cell_type": "code",
   "execution_count": 5,
   "id": "cf17f73a",
   "metadata": {},
   "outputs": [],
   "source": [
    "inputs = keras.Input(shape=(224, 224, 3))\n",
    "x = base_model(inputs, training=False)\n",
    "x = keras.layers.GlobalAveragePooling2D()(x)\n",
    "outputs = keras.layers.Dense(1, name='predictions')(x)\n",
    "model = keras.Model(inputs, outputs)"
   ]
  },
  {
   "cell_type": "code",
   "execution_count": 6,
   "id": "d6635b3a",
   "metadata": {},
   "outputs": [],
   "source": [
    "model.compile(loss=keras.losses.BinaryCrossentropy(from_logits=True), metrics=[keras.metrics.BinaryAccuracy()])"
   ]
  },
  {
   "cell_type": "markdown",
   "id": "bac6a0a0",
   "metadata": {},
   "source": [
    "https://www.kaggle.com/ankitachoudhury01/covid-patients-chest-xray"
   ]
  },
  {
   "cell_type": "code",
   "execution_count": 7,
   "id": "fbe2ae8b",
   "metadata": {},
   "outputs": [],
   "source": [
    "# data augmentation\n",
    "from tensorflow.keras.preprocessing.image import ImageDataGenerator\n",
    "\n",
    "datagen = ImageDataGenerator(\n",
    "        samplewise_center=True,  # set each sample mean to 0\n",
    "        rotation_range=10,  # randomly rotate images in the range (degrees, 0 to 180)\n",
    "        zoom_range = 0.1, # Randomly zoom image \n",
    "        width_shift_range=0.1,  # randomly shift images horizontally (fraction of total width)\n",
    "        height_shift_range=0.1,  # randomly shift images vertically (fraction of total height)\n",
    "        horizontal_flip=True,  # randomly flip images\n",
    "        vertical_flip=False) # we don't expect Bo to be upside-down so we will not flip vertically"
   ]
  },
  {
   "cell_type": "code",
   "execution_count": 8,
   "id": "ec7ffc12",
   "metadata": {},
   "outputs": [
    {
     "name": "stdout",
     "output_type": "stream",
     "text": [
      "Found 258 images belonging to 2 classes.\n",
      "Found 66 images belonging to 2 classes.\n"
     ]
    }
   ],
   "source": [
    "# load and iterate training dataset\n",
    "train_it = datagen.flow_from_directory('./COVID/train/', \n",
    "                                       target_size=(224, 224), \n",
    "                                       color_mode='rgb', \n",
    "                                       class_mode='binary', \n",
    "                                       batch_size=8)\n",
    "# load and iterate validation dataset\n",
    "valid_it = datagen.flow_from_directory('./COVID/test/', \n",
    "                                      target_size=(224, 224), \n",
    "                                      color_mode='rgb', \n",
    "                                      class_mode='binary', \n",
    "                                      batch_size=8)"
   ]
  },
  {
   "cell_type": "code",
   "execution_count": 9,
   "id": "e5f4d0b3",
   "metadata": {},
   "outputs": [
    {
     "name": "stdout",
     "output_type": "stream",
     "text": [
      "Epoch 1/20\n",
      "12/12 [==============================] - 7s 177ms/step - loss: 1.4924 - binary_accuracy: 0.3750 - val_loss: 1.5193 - val_binary_accuracy: 0.4375\n",
      "Epoch 2/20\n",
      "12/12 [==============================] - 2s 140ms/step - loss: 1.3199 - binary_accuracy: 0.4688 - val_loss: 1.7273 - val_binary_accuracy: 0.2812\n",
      "Epoch 3/20\n",
      "12/12 [==============================] - 1s 106ms/step - loss: 1.1180 - binary_accuracy: 0.5111 - val_loss: 1.1684 - val_binary_accuracy: 0.4688\n",
      "Epoch 4/20\n",
      "12/12 [==============================] - 1s 116ms/step - loss: 1.0997 - binary_accuracy: 0.5625 - val_loss: 0.9040 - val_binary_accuracy: 0.5938\n",
      "Epoch 5/20\n",
      "12/12 [==============================] - 1s 112ms/step - loss: 0.9361 - binary_accuracy: 0.5000 - val_loss: 1.0332 - val_binary_accuracy: 0.5312\n",
      "Epoch 6/20\n",
      "12/12 [==============================] - 2s 139ms/step - loss: 0.7974 - binary_accuracy: 0.6042 - val_loss: 0.7503 - val_binary_accuracy: 0.6562\n",
      "Epoch 7/20\n",
      "12/12 [==============================] - 1s 111ms/step - loss: 0.7789 - binary_accuracy: 0.5938 - val_loss: 1.0106 - val_binary_accuracy: 0.5625\n",
      "Epoch 8/20\n",
      "12/12 [==============================] - 2s 132ms/step - loss: 0.6761 - binary_accuracy: 0.7333 - val_loss: 1.2930 - val_binary_accuracy: 0.4062\n",
      "Epoch 9/20\n",
      "12/12 [==============================] - 1s 113ms/step - loss: 0.6414 - binary_accuracy: 0.7396 - val_loss: 0.8349 - val_binary_accuracy: 0.6875\n",
      "Epoch 10/20\n",
      "12/12 [==============================] - 2s 132ms/step - loss: 0.6009 - binary_accuracy: 0.7222 - val_loss: 0.6795 - val_binary_accuracy: 0.5938\n",
      "Epoch 11/20\n",
      "12/12 [==============================] - 1s 109ms/step - loss: 0.5097 - binary_accuracy: 0.7604 - val_loss: 0.7832 - val_binary_accuracy: 0.6250\n",
      "Epoch 12/20\n",
      "12/12 [==============================] - 2s 145ms/step - loss: 0.5482 - binary_accuracy: 0.7667 - val_loss: 0.6522 - val_binary_accuracy: 0.6562\n",
      "Epoch 13/20\n",
      "12/12 [==============================] - 1s 105ms/step - loss: 0.3295 - binary_accuracy: 0.8444 - val_loss: 0.6602 - val_binary_accuracy: 0.7188\n",
      "Epoch 14/20\n",
      "12/12 [==============================] - 2s 151ms/step - loss: 0.5498 - binary_accuracy: 0.7778 - val_loss: 0.5980 - val_binary_accuracy: 0.8125\n",
      "Epoch 15/20\n",
      "12/12 [==============================] - 1s 110ms/step - loss: 0.3672 - binary_accuracy: 0.8542 - val_loss: 0.5306 - val_binary_accuracy: 0.6875\n",
      "Epoch 16/20\n",
      "12/12 [==============================] - 2s 137ms/step - loss: 0.5325 - binary_accuracy: 0.8021 - val_loss: 0.6198 - val_binary_accuracy: 0.6562\n",
      "Epoch 17/20\n",
      "12/12 [==============================] - 1s 113ms/step - loss: 0.5386 - binary_accuracy: 0.8021 - val_loss: 0.4588 - val_binary_accuracy: 0.8125\n",
      "Epoch 18/20\n",
      "12/12 [==============================] - 2s 137ms/step - loss: 0.4472 - binary_accuracy: 0.8000 - val_loss: 0.7536 - val_binary_accuracy: 0.6875\n",
      "Epoch 19/20\n",
      "12/12 [==============================] - 1s 112ms/step - loss: 0.4684 - binary_accuracy: 0.7812 - val_loss: 0.6665 - val_binary_accuracy: 0.7500\n",
      "Epoch 20/20\n",
      "12/12 [==============================] - 2s 136ms/step - loss: 0.4449 - binary_accuracy: 0.7444 - val_loss: 0.4918 - val_binary_accuracy: 0.7500\n"
     ]
    },
    {
     "data": {
      "text/plain": [
       "<keras.callbacks.History at 0x7ff020a3efd0>"
      ]
     },
     "execution_count": 9,
     "metadata": {},
     "output_type": "execute_result"
    }
   ],
   "source": [
    "model.fit(train_it, steps_per_epoch=12, validation_data=valid_it, validation_steps=4, epochs=20)"
   ]
  },
  {
   "cell_type": "code",
   "execution_count": 10,
   "id": "633cde1e",
   "metadata": {},
   "outputs": [],
   "source": [
    "# fine tunning\n",
    "base_model.trainable = True\n",
    "\n",
    "# reduce learning rate\n",
    "model.compile(optimizer=keras.optimizers.RMSprop(learning_rate = .00001),\n",
    "              loss=keras.losses.BinaryCrossentropy(from_logits=True),\n",
    "              metrics=[keras.metrics.BinaryAccuracy()])"
   ]
  },
  {
   "cell_type": "code",
   "execution_count": 11,
   "id": "53b3dea5",
   "metadata": {},
   "outputs": [
    {
     "name": "stdout",
     "output_type": "stream",
     "text": [
      "Epoch 1/20\n",
      "10/10 [==============================] - 3s 138ms/step - loss: 0.7225 - binary_accuracy: 0.7625 - val_loss: 0.4307 - val_binary_accuracy: 0.8438\n",
      "Epoch 2/20\n",
      "10/10 [==============================] - 1s 117ms/step - loss: 0.3575 - binary_accuracy: 0.8125 - val_loss: 0.3810 - val_binary_accuracy: 0.9062\n",
      "Epoch 3/20\n",
      "10/10 [==============================] - 2s 154ms/step - loss: 0.2936 - binary_accuracy: 0.8514 - val_loss: 0.2759 - val_binary_accuracy: 0.9062\n",
      "Epoch 4/20\n",
      "10/10 [==============================] - 1s 113ms/step - loss: 0.3237 - binary_accuracy: 0.8514 - val_loss: 0.3962 - val_binary_accuracy: 0.8125\n",
      "Epoch 5/20\n",
      "10/10 [==============================] - 1s 150ms/step - loss: 0.1323 - binary_accuracy: 0.9625 - val_loss: 0.3068 - val_binary_accuracy: 0.9062\n",
      "Epoch 6/20\n",
      "10/10 [==============================] - 2s 190ms/step - loss: 0.3026 - binary_accuracy: 0.8500 - val_loss: 0.5238 - val_binary_accuracy: 0.8125\n",
      "Epoch 7/20\n",
      "10/10 [==============================] - 1s 119ms/step - loss: 0.1787 - binary_accuracy: 0.9125 - val_loss: 0.2431 - val_binary_accuracy: 0.9062\n",
      "Epoch 8/20\n",
      "10/10 [==============================] - 2s 186ms/step - loss: 0.1559 - binary_accuracy: 0.9324 - val_loss: 0.1889 - val_binary_accuracy: 0.8438\n",
      "Epoch 9/20\n",
      "10/10 [==============================] - 1s 116ms/step - loss: 0.2588 - binary_accuracy: 0.9054 - val_loss: 0.4827 - val_binary_accuracy: 0.8125\n",
      "Epoch 10/20\n",
      "10/10 [==============================] - 2s 190ms/step - loss: 0.1156 - binary_accuracy: 0.9500 - val_loss: 0.2613 - val_binary_accuracy: 0.8438\n",
      "Epoch 11/20\n",
      "10/10 [==============================] - 1s 118ms/step - loss: 0.2110 - binary_accuracy: 0.9000 - val_loss: 0.1279 - val_binary_accuracy: 0.9375\n",
      "Epoch 12/20\n",
      "10/10 [==============================] - 2s 185ms/step - loss: 0.2528 - binary_accuracy: 0.9000 - val_loss: 0.5086 - val_binary_accuracy: 0.7812\n",
      "Epoch 13/20\n",
      "10/10 [==============================] - 1s 119ms/step - loss: 0.2199 - binary_accuracy: 0.9000 - val_loss: 0.0827 - val_binary_accuracy: 0.9375\n",
      "Epoch 14/20\n",
      "10/10 [==============================] - 2s 183ms/step - loss: 0.0955 - binary_accuracy: 0.9500 - val_loss: 0.3267 - val_binary_accuracy: 0.8750\n",
      "Epoch 15/20\n",
      "10/10 [==============================] - 1s 116ms/step - loss: 0.2020 - binary_accuracy: 0.9054 - val_loss: 0.4650 - val_binary_accuracy: 0.8125\n",
      "Epoch 16/20\n",
      "10/10 [==============================] - 2s 187ms/step - loss: 0.0890 - binary_accuracy: 0.9730 - val_loss: 0.5554 - val_binary_accuracy: 0.8125\n",
      "Epoch 17/20\n",
      "10/10 [==============================] - 1s 124ms/step - loss: 0.0463 - binary_accuracy: 0.9875 - val_loss: 0.3246 - val_binary_accuracy: 0.8750\n",
      "Epoch 18/20\n",
      "10/10 [==============================] - 2s 181ms/step - loss: 0.0716 - binary_accuracy: 0.9750 - val_loss: 0.2538 - val_binary_accuracy: 0.9062\n",
      "Epoch 19/20\n",
      "10/10 [==============================] - 1s 119ms/step - loss: 0.0953 - binary_accuracy: 0.9625 - val_loss: 0.1038 - val_binary_accuracy: 0.9688\n",
      "Epoch 20/20\n",
      "10/10 [==============================] - 2s 185ms/step - loss: 0.0200 - binary_accuracy: 1.0000 - val_loss: 0.3744 - val_binary_accuracy: 0.9688\n"
     ]
    },
    {
     "data": {
      "text/plain": [
       "<keras.callbacks.History at 0x7fee5c7031f0>"
      ]
     },
     "execution_count": 11,
     "metadata": {},
     "output_type": "execute_result"
    }
   ],
   "source": [
    "model.fit(train_it, steps_per_epoch=10, validation_data=valid_it, validation_steps=4, epochs=20)"
   ]
  },
  {
   "cell_type": "code",
   "execution_count": 12,
   "id": "d8b5b58b",
   "metadata": {
    "scrolled": true
   },
   "outputs": [
    {
     "data": {
      "image/png": "[encoded data removed]",
      "text/plain": [
       "<Figure size 432x288 with 1 Axes>"
      ]
     },
     "metadata": {
      "needs_background": "light"
     },
     "output_type": "display_data"
    }
   ],
   "source": [
    "from keras.preprocessing.image import load_img, img_to_array\n",
    "from keras.applications.vgg16 import VGG16, preprocess_input\n",
    "import matplotlib.pyplot as plt\n",
    "\n",
    "# _img = load_img(\"./COVID/test/COVID_PATIENTS/covid_77.jpg\",target_size=(224,224))\n",
    "_img = load_img(\"./COVID/test/NORMAL_PATIENTS/normal_70.jpg\",target_size=(224,224))\n",
    "plt.imshow(_img)\n",
    "plt.show()"
   ]
  },
  {
   "cell_type": "code",
   "execution_count": 13,
   "id": "8c1e5789",
   "metadata": {},
   "outputs": [
    {
     "name": "stdout",
     "output_type": "stream",
     "text": [
      "[[4.9943943]]\n"
     ]
    }
   ],
   "source": [
    "import numpy as np\n",
    "img = np.array(_img).reshape(-1, 224, 224, 3)\n",
    "y_pred = model.predict(img)\n",
    "print(y_pred)"
   ]
  },
  {
   "cell_type": "code",
   "execution_count": 14,
   "id": "bf687ba4",
   "metadata": {},
   "outputs": [
    {
     "data": {
      "text/plain": [
       "{'status': 'ok', 'restart': True}"
      ]
     },
     "execution_count": 14,
     "metadata": {},
     "output_type": "execute_result"
    }
   ],
   "source": [
    "import IPython\n",
    "app = IPython.Application.instance()\n",
    "app.kernel.do_shutdown(True)"
   ]
  }
 ],
 "metadata": {
  "kernelspec": {
   "display_name": "Python 3",
   "language": "python",
   "name": "python3"
  },
  "language_info": {
   "codemirror_mode": {
    "name": "ipython",
    "version": 3
   },
   "file_extension": ".py",
   "mimetype": "text/x-python",
   "name": "python",
   "nbconvert_exporter": "python",
   "pygments_lexer": "ipython3",
   "version": "3.8.8"
  }
 },
 "nbformat": 4,
 "nbformat_minor": 5
}
