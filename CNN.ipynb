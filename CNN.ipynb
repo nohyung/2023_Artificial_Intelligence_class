{
 "cells": [
  {
   "cell_type": "markdown",
   "id": "75960ce5",
   "metadata": {},
   "source": [
    "### Convolutional Neural Networks\n",
    "\n",
    "Hanyang U. 2023\n",
    "\n",
    "Dates: 2023-3-30\n",
    "\n",
    "Author: Yung-Kyun Noh\n",
    "\n",
    "Department of Computer Science, Hanyang University / School of Computational Sciences, KIAS\n"
   ]
  },
  {
   "cell_type": "code",
   "execution_count": 1,
   "id": "c4ef0f61",
   "metadata": {},
   "outputs": [],
   "source": [
    "import os\n",
    "os.environ[\"CUDA_DEVICE_ORDER\"]=\"PCI_BUS_ID\"\n",
    "os.environ[\"CUDA_VISIBLE_DEVICES\"]=\"3\""
   ]
  },
  {
   "cell_type": "code",
   "execution_count": 2,
   "id": "dee3b49a",
   "metadata": {},
   "outputs": [],
   "source": [
    "from tensorflow.keras.datasets import mnist\n",
    "from tensorflow.keras.models import Sequential\n",
    "from tensorflow.keras.layers import Dense\n",
    "import tensorflow.keras as keras\n",
    "\n",
    "import numpy as np\n",
    "\n",
    "import matplotlib.pyplot as plt"
   ]
  },
  {
   "cell_type": "code",
   "execution_count": 3,
   "id": "22ded177",
   "metadata": {},
   "outputs": [
    {
     "name": "stdout",
     "output_type": "stream",
     "text": [
      "Downloading data from https://storage.googleapis.com/tensorflow/tf-keras-datasets/mnist.npz\n",
      "11493376/11490434 [==============================] - 1s 0us/step\n",
      "11501568/11490434 [==============================] - 1s 0us/step\n",
      "(60000, 28, 28)\n",
      "(10000, 28, 28)\n",
      "(60000,)\n",
      "(10000,)\n",
      "[5 0 4 ... 5 6 8] [7 2 1 ... 4 5 6]\n"
     ]
    }
   ],
   "source": [
    "# the data, split between train and test sets\n",
    "(x_train, y_train), (x_test, y_test) = mnist.load_data()\n",
    "\n",
    "print(x_train.shape)\n",
    "print(x_test.shape)\n",
    "print(y_train.shape)\n",
    "print(y_test.shape)\n",
    "\n",
    "print(y_train, y_test)"
   ]
  },
  {
   "cell_type": "code",
   "execution_count": 4,
   "id": "3b43e0ea",
   "metadata": {},
   "outputs": [
    {
     "data": {
      "text/plain": [
       "<matplotlib.image.AxesImage at 0x7f8202cc6cd0>"
      ]
     },
     "execution_count": 4,
     "metadata": {},
     "output_type": "execute_result"
    },
    {
     "data": {
      "image/png": "[encoded data removed]",
      "text/plain": [
       "<Figure size 432x288 with 1 Axes>"
      ]
     },
     "metadata": {
      "needs_background": "light"
     },
     "output_type": "display_data"
    }
   ],
   "source": [
    "plt.imshow(x_train[82], cmap='gray')\n"
   ]
  },
  {
   "cell_type": "code",
   "execution_count": 5,
   "id": "370430e6",
   "metadata": {},
   "outputs": [
    {
     "name": "stdout",
     "output_type": "stream",
     "text": [
      "(60000, 10) \n",
      " [0. 0. 0. 0. 0. 1. 0. 0. 0. 0.]\n"
     ]
    }
   ],
   "source": [
    "# flatten (vectorize) for ANN\n",
    "x_train_flatten = x_train.reshape(60000, 784)\n",
    "x_test_flatten = x_test.reshape(10000, 784)\n",
    "\n",
    "num_categories = 10\n",
    "\n",
    "y_train = keras.utils.to_categorical(y_train, num_categories)\n",
    "y_test = keras.utils.to_categorical(y_test, num_categories)\n",
    "\n",
    "print(y_train.shape, '\\n', y_train[0])    # one-hot coding"
   ]
  },
  {
   "cell_type": "markdown",
   "id": "d3d11dc4",
   "metadata": {},
   "source": [
    "### ANN"
   ]
  },
  {
   "cell_type": "code",
   "execution_count": 6,
   "id": "b7e3d880",
   "metadata": {},
   "outputs": [
    {
     "name": "stdout",
     "output_type": "stream",
     "text": [
      "Model: \"sequential\"\n",
      "_________________________________________________________________\n",
      " Layer (type)                Output Shape              Param #   \n",
      "=================================================================\n",
      " dense (Dense)               (None, 512)               401920    \n",
      "                                                                 \n",
      " dense_1 (Dense)             (None, 512)               262656    \n",
      "                                                                 \n",
      " dense_2 (Dense)             (None, 10)                5130      \n",
      "                                                                 \n",
      "=================================================================\n",
      "Total params: 669,706\n",
      "Trainable params: 669,706\n",
      "Non-trainable params: 0\n",
      "_________________________________________________________________\n"
     ]
    }
   ],
   "source": [
    "model = Sequential()\n",
    "\n",
    "model.add(Dense(units=512, activation='relu', input_shape=(784,)))\n",
    "model.add(Dense(units = 512, activation='relu'))\n",
    "model.add(Dense(units = num_categories, activation='softmax'))\n",
    "\n",
    "model.summary()"
   ]
  },
  {
   "cell_type": "code",
   "execution_count": 7,
   "id": "9a6c6c72",
   "metadata": {},
   "outputs": [
    {
     "name": "stdout",
     "output_type": "stream",
     "text": [
      "1st layer: 401920\n",
      "2nd layer: 262656\n",
      "3rd layer: 5130\n"
     ]
    }
   ],
   "source": [
    "# number of the parameters in each layer\n",
    "print('1st layer:', (784 + 1)*512)  # 1: bias\n",
    "print('2nd layer:', (512 + 1)*512)\n",
    "print('3rd layer:', (512 + 1)*10)\n"
   ]
  },
  {
   "cell_type": "code",
   "execution_count": 8,
   "id": "4b5cbde0",
   "metadata": {},
   "outputs": [
    {
     "name": "stdout",
     "output_type": "stream",
     "text": [
      "Epoch 1/5\n",
      "1875/1875 [==============================] - 8s 3ms/step - loss: 1.8659 - accuracy: 0.8914 - val_loss: 0.4673 - val_accuracy: 0.9409\n",
      "Epoch 2/5\n",
      "1875/1875 [==============================] - 6s 3ms/step - loss: 0.5017 - accuracy: 0.9329 - val_loss: 0.4255 - val_accuracy: 0.9262\n",
      "Epoch 3/5\n",
      "1875/1875 [==============================] - 6s 3ms/step - loss: 0.4049 - accuracy: 0.9424 - val_loss: 0.3682 - val_accuracy: 0.9508\n",
      "Epoch 4/5\n",
      "1875/1875 [==============================] - 5s 3ms/step - loss: 0.3916 - accuracy: 0.9443 - val_loss: 0.4649 - val_accuracy: 0.9555\n",
      "Epoch 5/5\n",
      "1875/1875 [==============================] - 5s 3ms/step - loss: 0.3718 - accuracy: 0.9487 - val_loss: 0.4836 - val_accuracy: 0.9487\n"
     ]
    }
   ],
   "source": [
    "model.compile(loss='categorical_crossentropy', metrics=['accuracy'])\n",
    "\n",
    "history = model.fit(x_train_flatten, y_train,\n",
    "                    epochs=5,\n",
    "                    verbose=1,\n",
    "                    validation_data=(x_test_flatten, y_test))\n"
   ]
  },
  {
   "cell_type": "markdown",
   "id": "f62dda10",
   "metadata": {},
   "source": [
    "### Convolutional Neural Networks"
   ]
  },
  {
   "cell_type": "code",
   "execution_count": 9,
   "id": "3de9e911",
   "metadata": {},
   "outputs": [],
   "source": [
    "from tensorflow.keras.models import Sequential\n",
    "from tensorflow.keras.layers import (\n",
    "    Dense,\n",
    "    Conv2D,\n",
    "    MaxPool2D,\n",
    "    Flatten,\n",
    "    Dropout,\n",
    "    BatchNormalization,\n",
    ")"
   ]
  },
  {
   "cell_type": "code",
   "execution_count": 10,
   "id": "6535f06b",
   "metadata": {},
   "outputs": [
    {
     "name": "stdout",
     "output_type": "stream",
     "text": [
      "Model: \"sequential_1\"\n",
      "_________________________________________________________________\n",
      " Layer (type)                Output Shape              Param #   \n",
      "=================================================================\n",
      " conv2d (Conv2D)             (None, 28, 28, 75)        750       \n",
      "                                                                 \n",
      " flatten (Flatten)           (None, 58800)             0         \n",
      "                                                                 \n",
      " dense_3 (Dense)             (None, 10)                588010    \n",
      "                                                                 \n",
      "=================================================================\n",
      "Total params: 588,760\n",
      "Trainable params: 588,760\n",
      "Non-trainable params: 0\n",
      "_________________________________________________________________\n"
     ]
    }
   ],
   "source": [
    "model = Sequential()\n",
    "model.add(Conv2D(75, (3, 3), strides=1, padding=\"same\", activation=\"relu\", \n",
    "                 input_shape=(28, 28, 1)))\n",
    "model.add(Flatten())\n",
    "model.add(Dense(units=num_categories, activation=\"softmax\"))\n",
    "model.summary()"
   ]
  },
  {
   "cell_type": "code",
   "execution_count": 11,
   "id": "59d79353",
   "metadata": {},
   "outputs": [
    {
     "name": "stdout",
     "output_type": "stream",
     "text": [
      "1st layer: 750\n",
      "3rd layer: 588010\n"
     ]
    }
   ],
   "source": [
    "# number of the parameters in each layer\n",
    "print('1st layer:', (3*3 + 1)*75)  # 1: bias\n",
    "print('3rd layer:', (58800 + 1)*10)\n"
   ]
  },
  {
   "cell_type": "code",
   "execution_count": 12,
   "id": "f2e176be",
   "metadata": {},
   "outputs": [
    {
     "name": "stdout",
     "output_type": "stream",
     "text": [
      "Epoch 1/5\n",
      "1875/1875 [==============================] - 9s 3ms/step - loss: 1.0185 - accuracy: 0.9506 - val_loss: 0.1091 - val_accuracy: 0.9714\n",
      "Epoch 2/5\n",
      "1875/1875 [==============================] - 6s 3ms/step - loss: 0.0955 - accuracy: 0.9740 - val_loss: 0.1021 - val_accuracy: 0.9723\n",
      "Epoch 3/5\n",
      "1875/1875 [==============================] - 6s 3ms/step - loss: 0.0922 - accuracy: 0.9749 - val_loss: 0.1210 - val_accuracy: 0.9711\n",
      "Epoch 4/5\n",
      "1875/1875 [==============================] - 6s 3ms/step - loss: 0.0925 - accuracy: 0.9752 - val_loss: 0.1139 - val_accuracy: 0.9716\n",
      "Epoch 5/5\n",
      "1875/1875 [==============================] - 5s 3ms/step - loss: 0.0915 - accuracy: 0.9758 - val_loss: 0.1353 - val_accuracy: 0.9663\n"
     ]
    },
    {
     "data": {
      "text/plain": [
       "<keras.callbacks.History at 0x7f818435bd00>"
      ]
     },
     "execution_count": 12,
     "metadata": {},
     "output_type": "execute_result"
    }
   ],
   "source": [
    "model.compile(loss='categorical_crossentropy', metrics=['accuracy'])\n",
    "\n",
    "x_train_conv = x_train.reshape(-1,28,28,1)\n",
    "x_test_conv = x_test.reshape(-1,28,28,1)\n",
    "\n",
    "model.fit(x_train_conv, y_train, epochs=5, verbose=1, validation_data=(x_test_conv, y_test))\n"
   ]
  },
  {
   "cell_type": "code",
   "execution_count": null,
   "id": "3fd1e82f",
   "metadata": {},
   "outputs": [],
   "source": []
  },
  {
   "cell_type": "markdown",
   "id": "764b7d1a",
   "metadata": {},
   "source": [
    "### Deep Convolutional Neural Networks"
   ]
  },
  {
   "cell_type": "code",
   "execution_count": 13,
   "id": "2ec185f0",
   "metadata": {},
   "outputs": [
    {
     "name": "stdout",
     "output_type": "stream",
     "text": [
      "Model: \"sequential_2\"\n",
      "_________________________________________________________________\n",
      " Layer (type)                Output Shape              Param #   \n",
      "=================================================================\n",
      " conv2d_1 (Conv2D)           (None, 28, 28, 75)        750       \n",
      "                                                                 \n",
      " batch_normalization (BatchN  (None, 28, 28, 75)       300       \n",
      " ormalization)                                                   \n",
      "                                                                 \n",
      " max_pooling2d (MaxPooling2D  (None, 14, 14, 75)       0         \n",
      " )                                                               \n",
      "                                                                 \n",
      " conv2d_2 (Conv2D)           (None, 14, 14, 50)        33800     \n",
      "                                                                 \n",
      " dropout (Dropout)           (None, 14, 14, 50)        0         \n",
      "                                                                 \n",
      " batch_normalization_1 (Batc  (None, 14, 14, 50)       200       \n",
      " hNormalization)                                                 \n",
      "                                                                 \n",
      " max_pooling2d_1 (MaxPooling  (None, 7, 7, 50)         0         \n",
      " 2D)                                                             \n",
      "                                                                 \n",
      " conv2d_3 (Conv2D)           (None, 7, 7, 25)          11275     \n",
      "                                                                 \n",
      " batch_normalization_2 (Batc  (None, 7, 7, 25)         100       \n",
      " hNormalization)                                                 \n",
      "                                                                 \n",
      " max_pooling2d_2 (MaxPooling  (None, 4, 4, 25)         0         \n",
      " 2D)                                                             \n",
      "                                                                 \n",
      " flatten_1 (Flatten)         (None, 400)               0         \n",
      "                                                                 \n",
      " dense_4 (Dense)             (None, 512)               205312    \n",
      "                                                                 \n",
      " dropout_1 (Dropout)         (None, 512)               0         \n",
      "                                                                 \n",
      " dense_5 (Dense)             (None, 10)                5130      \n",
      "                                                                 \n",
      "=================================================================\n",
      "Total params: 256,867\n",
      "Trainable params: 256,567\n",
      "Non-trainable params: 300\n",
      "_________________________________________________________________\n"
     ]
    }
   ],
   "source": [
    "model = Sequential()\n",
    "model.add(Conv2D(75, (3, 3), strides=1, padding=\"same\", activation=\"relu\", \n",
    "                 input_shape=(28, 28, 1)))\n",
    "model.add(BatchNormalization())\n",
    "model.add(MaxPool2D((2, 2), strides=2, padding=\"same\"))\n",
    "model.add(Conv2D(50, (3, 3), strides=1, padding=\"same\", activation=\"relu\"))\n",
    "model.add(Dropout(0.2))\n",
    "model.add(BatchNormalization())\n",
    "model.add(MaxPool2D((2, 2), strides=2, padding=\"same\"))\n",
    "model.add(Conv2D(25, (3, 3), strides=1, padding=\"same\", activation=\"relu\"))\n",
    "model.add(BatchNormalization())\n",
    "model.add(MaxPool2D((2, 2), strides=2, padding=\"same\"))\n",
    "model.add(Flatten())\n",
    "model.add(Dense(units=512, activation=\"relu\"))\n",
    "model.add(Dropout(0.3))\n",
    "model.add(Dense(units=num_categories, activation=\"softmax\"))\n",
    "\n",
    "model.summary()"
   ]
  },
  {
   "cell_type": "code",
   "execution_count": 14,
   "id": "df84c3a5",
   "metadata": {},
   "outputs": [
    {
     "name": "stdout",
     "output_type": "stream",
     "text": [
      "Epoch 1/20\n",
      "1875/1875 [==============================] - 10s 5ms/step - loss: 0.1395 - accuracy: 0.9600 - val_loss: 0.0507 - val_accuracy: 0.9862\n",
      "Epoch 2/20\n",
      "1875/1875 [==============================] - 7s 4ms/step - loss: 0.0653 - accuracy: 0.9832 - val_loss: 0.0425 - val_accuracy: 0.9877\n",
      "Epoch 3/20\n",
      "1875/1875 [==============================] - 9s 5ms/step - loss: 0.0522 - accuracy: 0.9871 - val_loss: 0.0652 - val_accuracy: 0.9822\n",
      "Epoch 4/20\n",
      "1875/1875 [==============================] - 8s 4ms/step - loss: 0.0477 - accuracy: 0.9887 - val_loss: 0.0430 - val_accuracy: 0.9892\n",
      "Epoch 5/20\n",
      "1875/1875 [==============================] - 10s 5ms/step - loss: 0.0403 - accuracy: 0.9906 - val_loss: 0.0374 - val_accuracy: 0.9910\n",
      "Epoch 6/20\n",
      "1875/1875 [==============================] - 10s 5ms/step - loss: 0.0376 - accuracy: 0.9911 - val_loss: 0.0343 - val_accuracy: 0.9915\n",
      "Epoch 7/20\n",
      "1875/1875 [==============================] - 10s 5ms/step - loss: 0.0337 - accuracy: 0.9924 - val_loss: 0.0348 - val_accuracy: 0.9915\n",
      "Epoch 8/20\n",
      "1875/1875 [==============================] - 11s 6ms/step - loss: 0.0280 - accuracy: 0.9932 - val_loss: 0.0423 - val_accuracy: 0.9898\n",
      "Epoch 9/20\n",
      "1875/1875 [==============================] - 8s 4ms/step - loss: 0.0278 - accuracy: 0.9931 - val_loss: 0.0383 - val_accuracy: 0.9917\n",
      "Epoch 10/20\n",
      "1875/1875 [==============================] - 8s 4ms/step - loss: 0.0242 - accuracy: 0.9942 - val_loss: 0.0408 - val_accuracy: 0.9904\n",
      "Epoch 11/20\n",
      "1875/1875 [==============================] - 7s 4ms/step - loss: 0.0233 - accuracy: 0.9946 - val_loss: 0.0418 - val_accuracy: 0.9908\n",
      "Epoch 12/20\n",
      "1875/1875 [==============================] - 8s 4ms/step - loss: 0.0200 - accuracy: 0.9951 - val_loss: 0.0376 - val_accuracy: 0.9916\n",
      "Epoch 13/20\n",
      "1875/1875 [==============================] - 8s 4ms/step - loss: 0.0181 - accuracy: 0.9954 - val_loss: 0.0417 - val_accuracy: 0.9894\n",
      "Epoch 14/20\n",
      "1875/1875 [==============================] - 7s 4ms/step - loss: 0.0180 - accuracy: 0.9955 - val_loss: 0.0384 - val_accuracy: 0.9922\n",
      "Epoch 15/20\n",
      "1875/1875 [==============================] - 8s 4ms/step - loss: 0.0170 - accuracy: 0.9961 - val_loss: 0.0447 - val_accuracy: 0.9914\n",
      "Epoch 16/20\n",
      "1875/1875 [==============================] - 8s 4ms/step - loss: 0.0160 - accuracy: 0.9964 - val_loss: 0.0364 - val_accuracy: 0.9920\n",
      "Epoch 17/20\n",
      "1875/1875 [==============================] - 7s 4ms/step - loss: 0.0127 - accuracy: 0.9963 - val_loss: 0.0327 - val_accuracy: 0.9932\n",
      "Epoch 18/20\n",
      "1875/1875 [==============================] - 7s 4ms/step - loss: 0.0120 - accuracy: 0.9972 - val_loss: 0.0397 - val_accuracy: 0.9914\n",
      "Epoch 19/20\n",
      "1875/1875 [==============================] - 7s 4ms/step - loss: 0.0123 - accuracy: 0.9972 - val_loss: 0.0350 - val_accuracy: 0.9935\n",
      "Epoch 20/20\n",
      "1875/1875 [==============================] - 7s 4ms/step - loss: 0.0121 - accuracy: 0.9970 - val_loss: 0.0384 - val_accuracy: 0.9921\n"
     ]
    },
    {
     "data": {
      "text/plain": [
       "<keras.callbacks.History at 0x7f81841eed60>"
      ]
     },
     "execution_count": 14,
     "metadata": {},
     "output_type": "execute_result"
    }
   ],
   "source": [
    "model.compile(loss=\"categorical_crossentropy\", metrics=[\"accuracy\"])\n",
    "\n",
    "x_train_conv = x_train.reshape(-1,28,28,1)\n",
    "x_test_conv = x_test.reshape(-1,28,28,1)\n",
    "\n",
    "model.fit(x_train_conv, y_train, epochs=20, verbose=1, validation_data=(x_test_conv, y_test))\n"
   ]
  },
  {
   "cell_type": "markdown",
   "id": "42787046",
   "metadata": {},
   "source": [
    "### Data augmentation"
   ]
  },
  {
   "cell_type": "code",
   "execution_count": 15,
   "id": "da07b032",
   "metadata": {},
   "outputs": [],
   "source": [
    "from tensorflow.keras.preprocessing.image import ImageDataGenerator\n",
    "\n",
    "datagen = ImageDataGenerator(\n",
    "    rotation_range=10,  # randomly rotate images in the range (degrees, 0 to 180)\n",
    "    zoom_range=0.1,  # Randomly zoom image\n",
    "    width_shift_range=0.1,  # randomly shift images horizontally (fraction of total width)\n",
    "    height_shift_range=0.1,  # randomly shift images vertically (fraction of total height)\n",
    "    horizontal_flip=False,  # randomly flip images horizontally\n",
    "    vertical_flip=False, # Don't randomly flip images vertically\n",
    ")\n",
    "\n",
    "batch_size = 32\n",
    "img_iter = datagen.flow(x_train_conv, y_train, batch_size=batch_size)"
   ]
  },
  {
   "cell_type": "code",
   "execution_count": 16,
   "id": "e94041fb",
   "metadata": {},
   "outputs": [
    {
     "name": "stdout",
     "output_type": "stream",
     "text": [
      "Epoch 1/20\n",
      "1000/1000 [==============================] - 9s 8ms/step - loss: 0.1147 - accuracy: 0.9724 - val_loss: 0.0488 - val_accuracy: 0.9896\n",
      "Epoch 2/20\n",
      "1000/1000 [==============================] - 9s 9ms/step - loss: 0.0717 - accuracy: 0.9794 - val_loss: 0.0523 - val_accuracy: 0.9903\n",
      "Epoch 3/20\n",
      "1000/1000 [==============================] - 8s 8ms/step - loss: 0.0637 - accuracy: 0.9820 - val_loss: 0.0301 - val_accuracy: 0.9921\n",
      "Epoch 4/20\n",
      "1000/1000 [==============================] - 9s 9ms/step - loss: 0.0612 - accuracy: 0.9833 - val_loss: 0.0279 - val_accuracy: 0.9926\n",
      "Epoch 5/20\n",
      "1000/1000 [==============================] - 8s 8ms/step - loss: 0.0575 - accuracy: 0.9830 - val_loss: 0.0296 - val_accuracy: 0.9914\n",
      "Epoch 6/20\n",
      "1000/1000 [==============================] - 9s 9ms/step - loss: 0.0531 - accuracy: 0.9847 - val_loss: 0.0257 - val_accuracy: 0.9927\n",
      "Epoch 7/20\n",
      "1000/1000 [==============================] - 9s 9ms/step - loss: 0.0532 - accuracy: 0.9855 - val_loss: 0.0332 - val_accuracy: 0.9909\n",
      "Epoch 8/20\n",
      "1000/1000 [==============================] - 8s 8ms/step - loss: 0.0509 - accuracy: 0.9857 - val_loss: 0.0255 - val_accuracy: 0.9928\n",
      "Epoch 9/20\n",
      "1000/1000 [==============================] - 7s 7ms/step - loss: 0.0511 - accuracy: 0.9854 - val_loss: 0.0253 - val_accuracy: 0.9932\n",
      "Epoch 10/20\n",
      "1000/1000 [==============================] - 8s 8ms/step - loss: 0.0481 - accuracy: 0.9860 - val_loss: 0.0223 - val_accuracy: 0.9933\n",
      "Epoch 11/20\n",
      "1000/1000 [==============================] - 9s 9ms/step - loss: 0.0469 - accuracy: 0.9866 - val_loss: 0.0254 - val_accuracy: 0.9920\n",
      "Epoch 12/20\n",
      "1000/1000 [==============================] - 8s 8ms/step - loss: 0.0465 - accuracy: 0.9868 - val_loss: 0.0297 - val_accuracy: 0.9894\n",
      "Epoch 13/20\n",
      "1000/1000 [==============================] - 8s 8ms/step - loss: 0.0442 - accuracy: 0.9870 - val_loss: 0.0164 - val_accuracy: 0.9945\n",
      "Epoch 14/20\n",
      "1000/1000 [==============================] - 8s 8ms/step - loss: 0.0412 - accuracy: 0.9887 - val_loss: 0.0247 - val_accuracy: 0.9924\n",
      "Epoch 15/20\n",
      "1000/1000 [==============================] - 9s 9ms/step - loss: 0.0400 - accuracy: 0.9879 - val_loss: 0.0202 - val_accuracy: 0.9931\n",
      "Epoch 16/20\n",
      "1000/1000 [==============================] - 9s 9ms/step - loss: 0.0368 - accuracy: 0.9897 - val_loss: 0.0269 - val_accuracy: 0.9919\n",
      "Epoch 17/20\n",
      "1000/1000 [==============================] - 8s 8ms/step - loss: 0.0411 - accuracy: 0.9881 - val_loss: 0.0225 - val_accuracy: 0.9932\n",
      "Epoch 18/20\n",
      "1000/1000 [==============================] - 9s 9ms/step - loss: 0.0411 - accuracy: 0.9876 - val_loss: 0.0210 - val_accuracy: 0.9935\n",
      "Epoch 19/20\n",
      "1000/1000 [==============================] - 9s 9ms/step - loss: 0.0403 - accuracy: 0.9884 - val_loss: 0.0173 - val_accuracy: 0.9941\n",
      "Epoch 20/20\n",
      "1000/1000 [==============================] - 8s 8ms/step - loss: 0.0390 - accuracy: 0.9878 - val_loss: 0.0220 - val_accuracy: 0.9927\n"
     ]
    },
    {
     "data": {
      "text/plain": [
       "<keras.callbacks.History at 0x7f818421b160>"
      ]
     },
     "execution_count": 16,
     "metadata": {},
     "output_type": "execute_result"
    }
   ],
   "source": [
    "model.fit(img_iter, steps_per_epoch=1000, verbose=1, validation_data=(x_test_conv, y_test), epochs=20)"
   ]
  },
  {
   "cell_type": "code",
   "execution_count": 17,
   "id": "c2b24527",
   "metadata": {},
   "outputs": [
    {
     "name": "stdout",
     "output_type": "stream",
     "text": [
      "Epoch 1/10\n",
      "1875/1875 [==============================] - 8s 4ms/step - loss: 0.0204 - accuracy: 0.9943 - val_loss: 0.0198 - val_accuracy: 0.9941\n",
      "Epoch 2/10\n",
      "1875/1875 [==============================] - 7s 4ms/step - loss: 0.0170 - accuracy: 0.9955 - val_loss: 0.0220 - val_accuracy: 0.9945\n",
      "Epoch 3/10\n",
      "1875/1875 [==============================] - 8s 4ms/step - loss: 0.0144 - accuracy: 0.9958 - val_loss: 0.0266 - val_accuracy: 0.9937\n",
      "Epoch 4/10\n",
      "1875/1875 [==============================] - 7s 4ms/step - loss: 0.0132 - accuracy: 0.9964 - val_loss: 0.0266 - val_accuracy: 0.9930\n",
      "Epoch 5/10\n",
      "1875/1875 [==============================] - 7s 4ms/step - loss: 0.0128 - accuracy: 0.9968 - val_loss: 0.0209 - val_accuracy: 0.9946\n",
      "Epoch 6/10\n",
      "1875/1875 [==============================] - 8s 4ms/step - loss: 0.0106 - accuracy: 0.9972 - val_loss: 0.0274 - val_accuracy: 0.9928\n",
      "Epoch 7/10\n",
      "1875/1875 [==============================] - 7s 4ms/step - loss: 0.0112 - accuracy: 0.9971 - val_loss: 0.0234 - val_accuracy: 0.9947\n",
      "Epoch 8/10\n",
      "1875/1875 [==============================] - 7s 4ms/step - loss: 0.0096 - accuracy: 0.9974 - val_loss: 0.0338 - val_accuracy: 0.9930\n",
      "Epoch 9/10\n",
      "1875/1875 [==============================] - 8s 4ms/step - loss: 0.0087 - accuracy: 0.9976 - val_loss: 0.0361 - val_accuracy: 0.9932\n",
      "Epoch 10/10\n",
      "1875/1875 [==============================] - 7s 4ms/step - loss: 0.0094 - accuracy: 0.9976 - val_loss: 0.0417 - val_accuracy: 0.9930\n"
     ]
    },
    {
     "data": {
      "text/plain": [
       "<keras.callbacks.History at 0x7f8154195040>"
      ]
     },
     "execution_count": 17,
     "metadata": {},
     "output_type": "execute_result"
    }
   ],
   "source": [
    "model.fit(x_train_conv, y_train, epochs=10, verbose=1, validation_data=(x_test_conv, y_test))"
   ]
  },
  {
   "cell_type": "code",
   "execution_count": 18,
   "id": "08204427",
   "metadata": {},
   "outputs": [
    {
     "name": "stdout",
     "output_type": "stream",
     "text": [
      "(3, 3, 1, 75)\n"
     ]
    },
    {
     "data": {
      "image/png": "[encoded data removed]",
      "text/plain": [
       "<Figure size 432x288 with 5 Axes>"
      ]
     },
     "metadata": {
      "needs_background": "light"
     },
     "output_type": "display_data"
    }
   ],
   "source": [
    "# show the first five filters\n",
    "filters, biases = model.layers[0].get_weights()\n",
    "print(filters.shape)\n",
    "plt.subplot(151)\n",
    "plt.imshow(filters[:,:,0,0], cmap='gray')\n",
    "plt.subplot(152)\n",
    "plt.imshow(filters[:,:,0,1], cmap='gray')\n",
    "plt.subplot(153)\n",
    "plt.imshow(filters[:,:,0,2], cmap='gray')\n",
    "plt.subplot(154)\n",
    "plt.imshow(filters[:,:,0,3], cmap='gray')\n",
    "plt.subplot(155)\n",
    "plt.imshow(filters[:,:,0,4], cmap='gray')\n",
    "plt.show()\n"
   ]
  },
  {
   "cell_type": "code",
   "execution_count": 19,
   "id": "dda17d22",
   "metadata": {},
   "outputs": [
    {
     "data": {
      "text/plain": [
       "{'status': 'ok', 'restart': True}"
      ]
     },
     "execution_count": 19,
     "metadata": {},
     "output_type": "execute_result"
    }
   ],
   "source": [
    "import IPython\n",
    "app = IPython.Application.instance()\n",
    "app.kernel.do_shutdown(True)"
   ]
  },
  {
   "cell_type": "code",
   "execution_count": null,
   "id": "fff1396e",
   "metadata": {},
   "outputs": [],
   "source": []
  }
 ],
 "metadata": {
  "kernelspec": {
   "display_name": "Python 3",
   "language": "python",
   "name": "python3"
  },
  "language_info": {
   "codemirror_mode": {
    "name": "ipython",
    "version": 3
   },
   "file_extension": ".py",
   "mimetype": "text/x-python",
   "name": "python",
   "nbconvert_exporter": "python",
   "pygments_lexer": "ipython3",
   "version": "3.8.8"
  }
 },
 "nbformat": 4,
 "nbformat_minor": 5
}
